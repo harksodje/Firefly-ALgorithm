{
  "nbformat": 4,
  "nbformat_minor": 0,
  "metadata": {
    "colab": {
      "name": "FireFly.ipynb",
      "provenance": [],
      "authorship_tag": "ABX9TyMV+jTbkrHoEVFydLvdjeJH",
      "include_colab_link": true
    },
    "kernelspec": {
      "name": "python3",
      "display_name": "Python 3"
    },
    "language_info": {
      "name": "python"
    }
  },
  "cells": [
    {
      "cell_type": "markdown",
      "metadata": {
        "id": "view-in-github",
        "colab_type": "text"
      },
      "source": [
        "<a href=\"https://colab.research.google.com/github/harksodje/Firefly-ALgorithm/blob/main/FireFly.ipynb\" target=\"_parent\"><img src=\"https://colab.research.google.com/assets/colab-badge.svg\" alt=\"Open In Colab\"/></a>"
      ]
    },
    {
      "cell_type": "code",
      "execution_count": 3,
      "metadata": {
        "id": "sVJdDovKJ2Iv"
      },
      "outputs": [],
      "source": [
        "# importing necessary libaries\n",
        "import numpy as np\n",
        "import seaborn as sns\n",
        "import matplotlib.pyplot as plt"
      ]
    },
    {
      "cell_type": "code",
      "source": [
        "#CONSTANTS\n",
        "lb = [-5,-10,-15] #lower boundaries\n",
        "ub = [5,10,15] #upper boundaries\n",
        "d = 3   # number variables\n",
        "pol_size = 20 #number of population\n",
        "num_iter = 100 #number of iteration\n",
        "alpha = 1 # randomness \n",
        "gamma = 0.01 #absorption coefficient\n",
        "beta0 = 1 #initial better\n",
        "theta = 0.97 #alha value ranges between 0.95 and 0.97"
      ],
      "metadata": {
        "id": "h6VpfJJ_KLYD"
      },
      "execution_count": 4,
      "outputs": []
    },
    {
      "cell_type": "code",
      "source": [
        "# creating random number for the memory\n",
        "matrix_ = np.zeros([pol_size,d]) \n",
        "print (f'Matrix memory: {matrix_}')\n",
        "for i in range(pol_size):\n",
        "    for k in range(d):\n",
        "         matrix_[i,k] = lb[k] + np.random.randn()*(ub[k]-lb[k])\n",
        "print ( f'Random Matrix: {matrix_}')"
      ],
      "metadata": {
        "colab": {
          "base_uri": "https://localhost:8080/"
        },
        "id": "lzo-_Hf3KOWY",
        "outputId": "69e1445f-7347-45cd-cee9-142afb8f1721"
      },
      "execution_count": 9,
      "outputs": [
        {
          "output_type": "stream",
          "name": "stdout",
          "text": [
            "Matrix memory: [[0. 0. 0.]\n",
            " [0. 0. 0.]\n",
            " [0. 0. 0.]\n",
            " [0. 0. 0.]\n",
            " [0. 0. 0.]\n",
            " [0. 0. 0.]\n",
            " [0. 0. 0.]\n",
            " [0. 0. 0.]\n",
            " [0. 0. 0.]\n",
            " [0. 0. 0.]\n",
            " [0. 0. 0.]\n",
            " [0. 0. 0.]\n",
            " [0. 0. 0.]\n",
            " [0. 0. 0.]\n",
            " [0. 0. 0.]\n",
            " [0. 0. 0.]\n",
            " [0. 0. 0.]\n",
            " [0. 0. 0.]\n",
            " [0. 0. 0.]\n",
            " [0. 0. 0.]]\n",
            "Random Matrix: [[-15.85095149  -5.10993931 -38.29356337]\n",
            " [-16.56163277   5.7078408   26.42383903]\n",
            " [  1.77165957  -9.69985952 -10.12470424]\n",
            " [  0.28979589  14.58051093  -8.43968295]\n",
            " [  1.19884703 -21.41706256 -61.36100651]\n",
            " [  4.6090384  -21.68188602  -7.80527195]\n",
            " [ -6.24685749 -22.80794858 -19.91596533]\n",
            " [-16.36960064 -14.80949929 -41.40711192]\n",
            " [  9.77183473 -14.89290936 -49.38735285]\n",
            " [ -5.34548057 -40.37845487 -17.61215482]\n",
            " [ -5.95014841 -27.86785842 -39.55608387]\n",
            " [-20.05857653  22.64185309 -52.52274382]\n",
            " [ -9.50727955 -30.46173995  -9.44708554]\n",
            " [ -9.44357693  -2.40001438 -10.22575759]\n",
            " [  1.40079406 -18.77331421  52.40039274]\n",
            " [ -4.85314056 -47.60086607   9.1183272 ]\n",
            " [  3.76028532  16.27464008 -49.1314189 ]\n",
            " [  8.20038496   9.88957171  43.93079515]\n",
            " [ -8.25284221 -12.33841507  19.26599636]\n",
            " [-16.06322843 -15.48727659   0.14649368]]\n"
          ]
        }
      ]
    },
    {
      "cell_type": "code",
      "source": [
        "# objective function \n",
        "def obj_func (x):\n",
        "    x_1 = x[0] # first variable\n",
        "    x_2 = x[1]  # second variable\n",
        "    x_3 = x[2]  # third varianle\n",
        "    return np.min(x_1 + x_2 + x_3)"
      ],
      "metadata": {
        "id": "0qh0SNUpK6AJ"
      },
      "execution_count": 10,
      "outputs": []
    },
    {
      "cell_type": "markdown",
      "source": [
        "$$\n",
        "            X_{i}^{t+1} = X_{i}^{t}  + β_{0} e ^{-γr_{i,j}^2} + α_{t} ε_{t}^{t}\n",
        "$$"
      ],
      "metadata": {
        "id": "yBw5Hv20LHwn"
      }
    },
    {
      "cell_type": "code",
      "source": [
        "#optimization process\n",
        "\n",
        "best_score = []\n",
        "for iter in range (num_iter):\n",
        "    # iteration looping\n",
        "    \n",
        "    scale_btw_ub_lb = np.array(ub) - np.array(lb) # define stigma\n",
        "    for i in range(pol_size):\n",
        "        for j in range (pol_size):\n",
        "            \n",
        "            \n",
        "            \n",
        "            xi = matrix_[i,:] #main fly\n",
        "            xj = matrix_[j,:] # corresponding flies\n",
        "            \n",
        "            # checking the optimization condition \n",
        "            if obj_func(xi) > obj_func(xj):\n",
        "                matrix_[i,:] = matrix_[i,:]\n",
        "\n",
        "            else:\n",
        "                # r in square\n",
        "                r = np.square(matrix_[i,:] - matrix_[i,:])\n",
        "\n",
        "                beta = beta0 * np.exp(-gamma *r) #attractiveness\n",
        "                \n",
        "                steps = alpha * (np.random.randn(d)-0.5) *scale_btw_ub_lb\n",
        "                \n",
        "                xnew = xi + beta *(xi - xj) + steps #new flies created\n",
        "                \n",
        "                #checking the boundaries wwith respect to inital boundaries\n",
        "                for ra in range(len(xnew)):\n",
        "                    #condition for the first element\n",
        "                    if xnew[0] > ub[0] or xnew[0] < lb[0]:\n",
        "                        xnew[0] = np.clip(xnew[0], lb[0],ub[0])\n",
        "                        \n",
        "                    #condition for the second element\n",
        "                    elif xnew[1] > ub[1] and xnew[1] < lb[1]:\n",
        "                        xnew[1] = np.clip(xnew[1], lb[1],ub[1])\n",
        "                        \n",
        "                    #conditon for the third element\n",
        "                    elif xnew[2] > ub[2] and xnew[2] < lb[2]:\n",
        "                        xnew[2] = np.clip(xnew[2], lb[2],ub[2]) \n",
        "                    \n",
        "                    \n",
        "            fnew = obj_func(xnew) #new function\n",
        "            f = obj_func(matrix_[i,:]) #old function \n",
        "            if fnew < f:\n",
        "                matrix_[i,:] = xnew\n",
        "                \n",
        "    best_score.append(obj_func(matrix_))\n",
        "    print (f'Number of Iteration: {iter}, Best cost: {obj_func(matrix_)}, Components: {xnew}')\n",
        "            "
      ],
      "metadata": {
        "colab": {
          "base_uri": "https://localhost:8080/"
        },
        "id": "KhqraQuZK9KF",
        "outputId": "75da5462-671d-417a-edbd-c473e72a4f63"
      },
      "execution_count": 12,
      "outputs": [
        {
          "output_type": "stream",
          "name": "stdout",
          "text": [
            "Number of Iteration: 0, Best cost: -6.42038655564792e+18, Components: [-5.00000000e+000 -2.84546662e+115 -6.33660408e+115]\n",
            "Number of Iteration: 1, Best cost: -2.568144825522081e+19, Components: [-5.00000000e+000 -1.49184258e+121 -3.32220231e+121]\n",
            "Number of Iteration: 2, Best cost: -1.0272559708656196e+20, Components: [ 3.58059894e+000 -7.82154789e+126 -1.74178998e+127]\n",
            "Number of Iteration: 3, Best cost: -4.109019964780256e+20, Components: [-4.40127195e+000 -4.10074272e+132 -9.13199365e+132]\n",
            "Number of Iteration: 4, Best cost: -1.6436072021760787e+21, Components: [-5.00000000e+000 -2.14996994e+138 -4.78779412e+138]\n",
            "Number of Iteration: 5, Best cost: -6.574427241232687e+21, Components: [-2.79148468e-001 -1.12720338e+144 -2.51018285e+144]\n",
            "Number of Iteration: 6, Best cost: -2.6297705829987915e+22, Components: [ 5.00000000e+000 -5.90979185e+149 -1.31605871e+150]\n",
            "Number of Iteration: 7, Best cost: -1.0519081705006643e+23, Components: [ 5.00000000e+000 -3.09843291e+155 -6.89993777e+155]\n",
            "Number of Iteration: 8, Best cost: -4.207632556604956e+23, Components: [-5.00000000e+000 -1.62447118e+161 -3.61755455e+161]\n",
            "Number of Iteration: 9, Best cost: -1.6830529975624426e+24, Components: [-5.00000000e+000 -8.51690742e+166 -1.89664043e+167]\n",
            "Number of Iteration: 10, Best cost: -6.732211940090691e+24, Components: [-5.00000000e+000 -4.46531235e+172 -9.94385817e+172]\n",
            "Number of Iteration: 11, Best cost: -2.6928847660044608e+25, Components: [-5.00000000e+000 -2.34110968e+178 -5.21344551e+178]\n",
            "Number of Iteration: 12, Best cost: -1.0771539043954209e+26, Components: [ 4.60586431e+000 -1.22741571e+184 -2.73334692e+184]\n",
            "Number of Iteration: 13, Best cost: -4.308615613568958e+26, Components: [-3.39340041e+000 -6.43519328e+189 -1.43306099e+190]\n",
            "Number of Iteration: 14, Best cost: -1.7234462446250377e+27, Components: [-5.00000000e+000 -3.37389462e+195 -7.51336679e+195]\n",
            "Number of Iteration: 15, Best cost: -6.893784976895062e+27, Components: [ 5.00000000e+000 -1.76889246e+201 -3.93916805e+201]\n",
            "Number of Iteration: 16, Best cost: -2.757513990437006e+28, Components: [-5.00000000e+000 -9.27409090e+206 -2.06525854e+207]\n",
            "Number of Iteration: 17, Best cost: -1.1030055961105988e+29, Components: [ 9.79442517e-001 -4.86229457e+212 -1.08279027e+213]\n",
            "Number of Iteration: 18, Best cost: -4.412022384313988e+29, Components: [-2.21813845e-001 -2.54924270e+218 -5.67693944e+218]\n",
            "Number of Iteration: 19, Best cost: -1.7648089536999136e+30, Components: [-1.44665922e+000 -1.33653735e+224 -2.97635123e+224]\n",
            "Number of Iteration: 20, Best cost: -7.059235814748292e+30, Components: [ 6.27684689e-001 -7.00730496e+229 -1.56046523e+230]\n",
            "Number of Iteration: 21, Best cost: -2.823694325889044e+31, Components: [-3.97043523e+000 -3.67384591e+235 -8.18133195e+235]\n",
            "Number of Iteration: 22, Best cost: -1.129477730353563e+32, Components: [ 5.00000000e+000 -1.92615332e+241 -4.28937417e+241]\n",
            "Number of Iteration: 23, Best cost: -4.517910921410143e+32, Components: [-5.00000000e+000 -1.00985907e+247 -2.24886740e+247]\n",
            "Number of Iteration: 24, Best cost: -1.8071643685632357e+33, Components: [-5.00000000e+000 -5.29456994e+252 -1.17905419e+253]\n",
            "Number of Iteration: 25, Best cost: -7.228657474251299e+33, Components: [-5.00000000e+000 -2.77587948e+258 -6.18163965e+258]\n",
            "Number of Iteration: 26, Best cost: -2.8914629897001902e+34, Components: [-5.00000000e+000 -1.45536030e+264 -3.24095949e+264]\n",
            "Number of Iteration: 27, Best cost: -1.1565851958800104e+35, Components: [-5.00000000e+000 -7.63027942e+269 -1.69919617e+270]\n",
            "Number of Iteration: 28, Best cost: -4.6263407835199104e+35, Components: [-5.00000000e+000 -4.00046394e+275 -8.90868161e+275]\n",
            "Number of Iteration: 29, Best cost: -1.850536313407938e+36, Components: [ 5.00000000e+000 -2.09739524e+281 -4.67071486e+281]\n",
            "Number of Iteration: 30, Best cost: -7.402145253631698e+36, Components: [ 5.00000000e+000 -1.09963915e+287 -2.44879975e+287]\n",
            "Number of Iteration: 31, Best cost: -2.960858101452669e+37, Components: [-6.64030888e-001 -5.76527613e+292 -1.28387633e+293]\n",
            "Number of Iteration: 32, Best cost: -1.1843432405810657e+38, Components: [ 2.79529077e+000 -3.02266509e+298 -6.73120951e+298]\n",
            "Number of Iteration: 33, Best cost: -4.737372962324258e+38, Components: [-1.33540299e+000 -1.58474703e+304 -3.52909237e+304]\n",
            "Number of Iteration: 34, Best cost: -1.8949491849297024e+39, Components: [-5.00000000e+000 -6.49112385e+307 -1.44551623e+308]\n"
          ]
        },
        {
          "output_type": "stream",
          "name": "stderr",
          "text": [
            "/usr/local/lib/python3.7/dist-packages/ipykernel_launcher.py:6: RuntimeWarning: overflow encountered in double_scalars\n",
            "  \n",
            "/usr/local/lib/python3.7/dist-packages/ipykernel_launcher.py:28: RuntimeWarning: overflow encountered in add\n"
          ]
        },
        {
          "output_type": "stream",
          "name": "stdout",
          "text": [
            "Number of Iteration: 35, Best cost: -7.57979673971881e+39, Components: [-5.00000000e+000 -6.49112385e+307 -1.44551623e+308]\n",
            "Number of Iteration: 36, Best cost: -3.0319186958875234e+40, Components: [-5.00000000e+000 -6.49112385e+307 -1.44551623e+308]\n",
            "Number of Iteration: 37, Best cost: -1.2127674783550093e+41, Components: [ 5.00000000e+000 -6.49112385e+307 -1.44551623e+308]\n",
            "Number of Iteration: 38, Best cost: -4.851069913420037e+41, Components: [-1.68894663e-001 -6.49112385e+307 -1.44551623e+308]\n",
            "Number of Iteration: 39, Best cost: -1.940427965368015e+42, Components: [-5.00000000e+000 -6.49112385e+307 -1.44551623e+308]\n",
            "Number of Iteration: 40, Best cost: -7.76171186147206e+42, Components: [-5.00000000e+000 -6.49112385e+307 -1.44551623e+308]\n",
            "Number of Iteration: 41, Best cost: -3.104684744588824e+43, Components: [-5.00000000e+000 -6.49112385e+307 -1.44551623e+308]\n",
            "Number of Iteration: 42, Best cost: -1.2418738978355296e+44, Components: [-5.00000000e+000 -6.49112385e+307 -1.44551623e+308]\n",
            "Number of Iteration: 43, Best cost: -4.967495591342118e+44, Components: [ 1.32060658e+000 -6.49112385e+307 -1.44551623e+308]\n",
            "Number of Iteration: 44, Best cost: -1.9869982365368473e+45, Components: [ 3.79255976e+000 -6.49112385e+307 -1.44551623e+308]\n",
            "Number of Iteration: 45, Best cost: -7.947992946147389e+45, Components: [-1.79199020e+000 -6.49112385e+307 -1.44551623e+308]\n",
            "Number of Iteration: 46, Best cost: -3.1791971784589557e+46, Components: [-5.00000000e+000 -6.49112385e+307 -1.44551623e+308]\n",
            "Number of Iteration: 47, Best cost: -1.2716788713835823e+47, Components: [-5.00000000e+000 -6.49112385e+307 -1.44551623e+308]\n",
            "Number of Iteration: 48, Best cost: -5.086715485534329e+47, Components: [-3.83359654e-001 -6.49112385e+307 -1.44551623e+308]\n",
            "Number of Iteration: 49, Best cost: -2.0346861942137316e+48, Components: [-5.00000000e+000 -6.49112385e+307 -1.44551623e+308]\n",
            "Number of Iteration: 50, Best cost: -8.138744776854927e+48, Components: [-5.00000000e+000 -6.49112385e+307 -1.44551623e+308]\n",
            "Number of Iteration: 51, Best cost: -3.2554979107419706e+49, Components: [ 5.00000000e+000 -6.49112385e+307 -1.44551623e+308]\n",
            "Number of Iteration: 52, Best cost: -1.3021991642967883e+50, Components: [ 5.00000000e+000 -6.49112385e+307 -1.44551623e+308]\n",
            "Number of Iteration: 53, Best cost: -5.208796657187153e+50, Components: [-5.00000000e+000 -6.49112385e+307 -1.44551623e+308]\n",
            "Number of Iteration: 54, Best cost: -2.0835186628748612e+51, Components: [ 5.00000000e+000 -6.49112385e+307 -1.44551623e+308]\n",
            "Number of Iteration: 55, Best cost: -8.334074651499445e+51, Components: [-2.72988872e+000 -6.49112385e+307 -1.44551623e+308]\n",
            "Number of Iteration: 56, Best cost: -3.333629860599778e+52, Components: [ 5.00000000e+000 -6.49112385e+307 -1.44551623e+308]\n",
            "Number of Iteration: 57, Best cost: -1.3334519442399112e+53, Components: [-4.04546915e+000 -6.49112385e+307 -1.44551623e+308]\n",
            "Number of Iteration: 58, Best cost: -5.333807776959645e+53, Components: [ 3.82017512e+000 -6.49112385e+307 -1.44551623e+308]\n",
            "Number of Iteration: 59, Best cost: -2.133523110783858e+54, Components: [-3.96835906e+000 -6.49112385e+307 -1.44551623e+308]\n",
            "Number of Iteration: 60, Best cost: -8.534092443135431e+54, Components: [ 2.48786153e+000 -6.49112385e+307 -1.44551623e+308]\n",
            "Number of Iteration: 61, Best cost: -3.4136369772541726e+55, Components: [-5.00000000e+000 -6.49112385e+307 -1.44551623e+308]\n",
            "Number of Iteration: 62, Best cost: -1.365454790901669e+56, Components: [-5.00000000e+000 -6.49112385e+307 -1.44551623e+308]\n",
            "Number of Iteration: 63, Best cost: -5.461819163606676e+56, Components: [-5.00000000e+000 -6.49112385e+307 -1.44551623e+308]\n",
            "Number of Iteration: 64, Best cost: -2.1847276654426705e+57, Components: [-5.00000000e+000 -6.49112385e+307 -1.44551623e+308]\n",
            "Number of Iteration: 65, Best cost: -8.738910661770682e+57, Components: [-5.00000000e+000 -6.49112385e+307 -1.44551623e+308]\n",
            "Number of Iteration: 66, Best cost: -3.495564264708273e+58, Components: [ 1.57679640e+000 -6.49112385e+307 -1.44551623e+308]\n",
            "Number of Iteration: 67, Best cost: -1.398225705883309e+59, Components: [-3.09592805e+000 -6.49112385e+307 -1.44551623e+308]\n",
            "Number of Iteration: 68, Best cost: -5.592902823533236e+59, Components: [ 4.68904931e+000 -6.49112385e+307 -1.44551623e+308]\n",
            "Number of Iteration: 69, Best cost: -2.2371611294132946e+60, Components: [ 3.16516197e+000 -6.49112385e+307 -1.44551623e+308]\n",
            "Number of Iteration: 70, Best cost: -8.948644517653178e+60, Components: [-5.00000000e+000 -6.49112385e+307 -1.44551623e+308]\n",
            "Number of Iteration: 71, Best cost: -3.579457807061271e+61, Components: [-5.00000000e+000 -6.49112385e+307 -1.44551623e+308]\n",
            "Number of Iteration: 72, Best cost: -1.4317831228245085e+62, Components: [ 1.30531141e+000 -6.49112385e+307 -1.44551623e+308]\n",
            "Number of Iteration: 73, Best cost: -5.727132491298034e+62, Components: [-4.60192223e+000 -6.49112385e+307 -1.44551623e+308]\n",
            "Number of Iteration: 74, Best cost: -2.2908529965192136e+63, Components: [-5.00000000e+000 -6.49112385e+307 -1.44551623e+308]\n",
            "Number of Iteration: 75, Best cost: -9.163411986076854e+63, Components: [-5.00000000e+000 -6.49112385e+307 -1.44551623e+308]\n",
            "Number of Iteration: 76, Best cost: -3.665364794430742e+64, Components: [ 5.00000000e+000 -6.49112385e+307 -1.44551623e+308]\n",
            "Number of Iteration: 77, Best cost: -1.4661459177722967e+65, Components: [-5.00000000e+000 -6.49112385e+307 -1.44551623e+308]\n",
            "Number of Iteration: 78, Best cost: -5.864583671089187e+65, Components: [-5.00000000e+000 -6.49112385e+307 -1.44551623e+308]\n",
            "Number of Iteration: 79, Best cost: -2.3458334684356747e+66, Components: [-3.49991552e+000 -6.49112385e+307 -1.44551623e+308]\n",
            "Number of Iteration: 80, Best cost: -9.383333873742699e+66, Components: [-5.00000000e+000 -6.49112385e+307 -1.44551623e+308]\n",
            "Number of Iteration: 81, Best cost: -3.7533335494970796e+67, Components: [ 3.08259006e+000 -6.49112385e+307 -1.44551623e+308]\n",
            "Number of Iteration: 82, Best cost: -1.5013334197988318e+68, Components: [-5.00000000e+000 -6.49112385e+307 -1.44551623e+308]\n",
            "Number of Iteration: 83, Best cost: -6.005333679195327e+68, Components: [-1.23314138e+000 -6.49112385e+307 -1.44551623e+308]\n",
            "Number of Iteration: 84, Best cost: -2.402133471678131e+69, Components: [-5.00000000e+000 -6.49112385e+307 -1.44551623e+308]\n",
            "Number of Iteration: 85, Best cost: -9.608533886712524e+69, Components: [-5.00000000e+000 -6.49112385e+307 -1.44551623e+308]\n",
            "Number of Iteration: 86, Best cost: -3.8434135546850095e+70, Components: [-5.00000000e+000 -6.49112385e+307 -1.44551623e+308]\n",
            "Number of Iteration: 87, Best cost: -1.5373654218740038e+71, Components: [ 4.94831895e+000 -6.49112385e+307 -1.44551623e+308]\n",
            "Number of Iteration: 88, Best cost: -6.149461687496015e+71, Components: [-5.00000000e+000 -6.49112385e+307 -1.44551623e+308]\n",
            "Number of Iteration: 89, Best cost: -2.459784674998406e+72, Components: [-5.00000000e+000 -6.49112385e+307 -1.44551623e+308]\n",
            "Number of Iteration: 90, Best cost: -9.839138699993624e+72, Components: [-5.00000000e+000 -6.49112385e+307 -1.44551623e+308]\n",
            "Number of Iteration: 91, Best cost: -3.93565547999745e+73, Components: [-5.00000000e+000 -6.49112385e+307 -1.44551623e+308]\n",
            "Number of Iteration: 92, Best cost: -1.57426219199898e+74, Components: [-5.00000000e+000 -6.49112385e+307 -1.44551623e+308]\n",
            "Number of Iteration: 93, Best cost: -6.29704876799592e+74, Components: [-5.00000000e+000 -6.49112385e+307 -1.44551623e+308]\n",
            "Number of Iteration: 94, Best cost: -2.518819507198368e+75, Components: [-5.00000000e+000 -6.49112385e+307 -1.44551623e+308]\n",
            "Number of Iteration: 95, Best cost: -1.0075278028793471e+76, Components: [-5.00000000e+000 -6.49112385e+307 -1.44551623e+308]\n",
            "Number of Iteration: 96, Best cost: -4.0301112115173885e+76, Components: [-5.00000000e+000 -6.49112385e+307 -1.44551623e+308]\n",
            "Number of Iteration: 97, Best cost: -1.6120444846069554e+77, Components: [-5.00000000e+000 -6.49112385e+307 -1.44551623e+308]\n",
            "Number of Iteration: 98, Best cost: -6.448177938427822e+77, Components: [-3.92302338e+000 -6.49112385e+307 -1.44551623e+308]\n",
            "Number of Iteration: 99, Best cost: -2.5792711753711287e+78, Components: [ 5.00000000e+000 -6.49112385e+307 -1.44551623e+308]\n"
          ]
        }
      ]
    },
    {
      "cell_type": "code",
      "source": [
        "print('Optimize matrix')\n",
        "print(matrix_)"
      ],
      "metadata": {
        "colab": {
          "base_uri": "https://localhost:8080/"
        },
        "id": "i_N3WEWWKUY_",
        "outputId": "13e71790-9261-42a8-9a7c-88697b0c8043"
      },
      "execution_count": 20,
      "outputs": [
        {
          "output_type": "stream",
          "name": "stdout",
          "text": [
            "Optimize matrix\n",
            "[[ 2.10320053e-001 -2.09783624e+007 -4.67160992e+007]\n",
            " [-5.00000000e+000 -6.97085567e+042 -1.55234829e+043]\n",
            " [ 1.05615672e+000 -1.15822765e+078 -2.57927118e+078]\n",
            " [-5.00000000e+000 -2.88664631e+113 -6.42830763e+113]\n",
            " [ 5.00000000e+000 -8.39345565e+148 -1.86914881e+149]\n",
            " [-5.00000000e+000 -2.61487804e+184 -5.82310359e+184]\n",
            " [-5.00000000e+000 -8.41787719e+219 -1.87458727e+220]\n",
            " [ 2.83514238e+000 -2.75361122e+255 -6.13205018e+255]\n",
            " [ 4.65268753e+000 -9.07895468e+290 -2.02180342e+291]\n",
            " [ 5.00000000e+000 -6.51652122e+307 -1.45117201e+308]\n",
            " [-5.00000000e+000 -6.50379360e+307 -1.44833767e+308]\n",
            " [-5.00000000e+000 -6.49744221e+307 -1.44692328e+308]\n",
            " [ 3.85642566e+000 -6.49426962e+307 -1.44621677e+308]\n",
            " [-5.00000000e+000 -6.49268410e+307 -1.44586369e+308]\n",
            " [-5.00000000e+000 -6.49189153e+307 -1.44568719e+308]\n",
            " [-5.00000000e+000 -6.49149530e+307 -1.44559895e+308]\n",
            " [ 4.51272887e-001 -6.49129719e+307 -1.44555484e+308]\n",
            " [ 3.79357698e+000 -6.49119814e+307 -1.44553278e+308]\n",
            " [-5.00000000e+000 -6.49116100e+307 -1.44552451e+308]\n",
            " [-5.00000000e+000 -6.49112385e+307 -1.44551623e+308]]\n"
          ]
        }
      ]
    },
    {
      "cell_type": "code",
      "source": [
        "#sns.lineplot(x = best_score, y = range(len(best_score)))\n",
        "plt.figure(figsize=[8,8])\n",
        "plt.plot(range(len(best_score)),best_score)\n",
        "plt.xlabel('Number of Iterations')\n",
        "plt.ylabel('Best Score')"
      ],
      "metadata": {
        "colab": {
          "base_uri": "https://localhost:8080/",
          "height": 526
        },
        "id": "6Vxen1nRKVLO",
        "outputId": "d4a18d57-ad41-492a-f130-fcbccddabe7c"
      },
      "execution_count": 21,
      "outputs": [
        {
          "output_type": "execute_result",
          "data": {
            "text/plain": [
              "Text(0, 0.5, 'Best Score')"
            ]
          },
          "metadata": {},
          "execution_count": 21
        },
        {
          "output_type": "display_data",
          "data": {
            "image/png": "[encoded data removed]",
            "text/plain": [
              "<Figure size 576x576 with 1 Axes>"
            ]
          },
          "metadata": {
            "needs_background": "light"
          }
        }
      ]
    },
    {
      "cell_type": "code",
      "source": [
        "len(best_score)"
      ],
      "metadata": {
        "colab": {
          "base_uri": "https://localhost:8080/"
        },
        "id": "ciDZkawtPcUl",
        "outputId": "00a42494-e636-4203-a50e-6a6ecf613c42"
      },
      "execution_count": null,
      "outputs": [
        {
          "output_type": "execute_result",
          "data": {
            "text/plain": [
              "1"
            ]
          },
          "metadata": {},
          "execution_count": 28
        }
      ]
    },
    {
      "cell_type": "code",
      "source": [
        ""
      ],
      "metadata": {
        "id": "HGfXv_f8Pfhz"
      },
      "execution_count": null,
      "outputs": []
    }
  ]
}